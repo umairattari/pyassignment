{
 "cells": [
  {
   "cell_type": "code",
   "execution_count": 2,
   "metadata": {},
   "outputs": [
    {
     "name": "stdout",
     "output_type": "stream",
     "text": [
      "Hello!, What is your name\n",
      "umair attari\n",
      "number I am thinking of is between 1 and 30 \n",
      "Take a Guess. \n",
      "12\n",
      "Number is too low\n",
      "Take a Guess. \n",
      "20\n",
      "Number is too high\n",
      "Take a Guess. \n",
      "15\n",
      "Number is too low\n",
      "Take a Guess. \n",
      "10\n",
      "Number is too low\n",
      "Take a Guess. \n",
      "16\n",
      "Number is too low\n",
      "Take a Guess. \n",
      "18\n",
      "Number is too high\n",
      "Wrong! Unlucky, The number was:  17\n"
     ]
    }
   ],
   "source": [
    "import random\n",
    "numofguesses = 0\n",
    "print(\"Hello!, What is your name\")\n",
    "name = input()\n",
    "\n",
    "number = random.randint(1, 30)\n",
    "print(\"number I am thinking of is between 1 and 30 \")\n",
    "\n",
    "while numofguesses < 6:\n",
    "    print(\"Take a Guess. \")\n",
    "    guess = input()\n",
    "    guess = int(guess)\n",
    "    \n",
    "    numofguesses = numofguesses + 1\n",
    "    if guess < number:\n",
    "        print(\"Number is too low\")\n",
    "    if guess > number:\n",
    "        print(\"Number is too high\")\n",
    "    if guess == number:\n",
    "        break\n",
    "if guess == number:\n",
    "    numofguesses = str(numofguesses)\n",
    "    print(\"Well Done \" ,name , \"you guessed the number is: \", numofguesses)\n",
    "    \n",
    "if guess != number:\n",
    "    number = str(number)\n",
    "    print(\"Wrong! Unlucky, The number was: \" ,number)"
   ]
  },
  {
   "cell_type": "code",
   "execution_count": 3,
   "metadata": {},
   "outputs": [
    {
     "name": "stdout",
     "output_type": "stream",
     "text": [
      "\n",
      "Santiago is in Chile.\n",
      "  It has a population of about 6158080.\n",
      "  The Andes mountains are nearby.\n",
      "\n",
      "Talkeetna is in Alaska.\n",
      "  It has a population of about 876.\n",
      "  The Alaska Range mountains are nearby.\n",
      "\n",
      "Kathmandu is in Nepal.\n",
      "  It has a population of about 1003285.\n",
      "  The Himilaya mountains are nearby.\n"
     ]
    }
   ],
   "source": [
    "cities = {\n",
    "    'santiago': {\n",
    "        'country': 'chile',\n",
    "        'population': 6158080,\n",
    "        'nearby mountains': 'andes',\n",
    "        },\n",
    "    'talkeetna': {\n",
    "        'country': 'alaska',\n",
    "        'population': 876,\n",
    "        'nearby mountains': 'alaska range',\n",
    "        },\n",
    "    'kathmandu': {\n",
    "        'country': 'nepal',\n",
    "        'population': 1003285,\n",
    "        'nearby mountains': 'himilaya',\n",
    "        }\n",
    "    }\n",
    "\n",
    "for city, city_info in cities.items():\n",
    "    country = city_info['country'].title()\n",
    "    population = city_info['population']\n",
    "    mountains = city_info['nearby mountains'].title()\n",
    "\n",
    "    print(\"\\n\" + city.title() + \" is in \" + country + \".\")\n",
    "    print(\"  It has a population of about \" + str(population) + \".\")\n",
    "    print(\"  The \" + mountains + \" mountains are nearby.\")"
   ]
  },
  {
   "cell_type": "code",
   "execution_count": null,
   "metadata": {},
   "outputs": [],
   "source": []
  }
 ],
 "metadata": {
  "kernelspec": {
   "display_name": "Python 3",
   "language": "python",
   "name": "python3"
  },
  "language_info": {
   "codemirror_mode": {
    "name": "ipython",
    "version": 3
   },
   "file_extension": ".py",
   "mimetype": "text/x-python",
   "name": "python",
   "nbconvert_exporter": "python",
   "pygments_lexer": "ipython3",
   "version": "3.7.4"
  }
 },
 "nbformat": 4,
 "nbformat_minor": 2
}
