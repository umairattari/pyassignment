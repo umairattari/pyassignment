{
 "cells": [
  {
   "cell_type": "code",
   "execution_count": 9,
   "metadata": {},
   "outputs": [
    {
     "name": "stdout",
     "output_type": "stream",
     "text": [
      "enter your chemistry marks30\n",
      "enter your physics marks30\n",
      "enter your maths marks35\n",
      "enter your english marks35\n",
      "enter your urdu marks30\n",
      "160\n",
      "32.0\n",
      "you have fail\n"
     ]
    }
   ],
   "source": [
    "a = int(input(\"enter your chemistry marks\"))\n",
    "b = int(input(\"enter your physics marks\"))\n",
    "c = int(input(\"enter your maths marks\"))\n",
    "d = int(input(\"enter your english marks\"))\n",
    "e = int(input(\"enter your urdu marks\"))\n",
    "f = a + b + c + d + e\n",
    "print(f)\n",
    "g = f/500*100\n",
    "print(g)\n",
    "if g >= 80 and g <= 100:\n",
    "    print(\"A+ and Bravo\")\n",
    "elif g >= 70 and g <= 80:\n",
    "    print(\"A and Xcellent\" )\n",
    "elif g >= 60 and g <= 70:\n",
    "    print(\"B and Need improvement\")\n",
    "elif g >= 50 and g <= 40:\n",
    "    print(\"C and Keep hard Work \")\n",
    "elif g >= 40 and g <= 50:\n",
    "    print(\"D and Keep Xtra Effort\")\n",
    "else:\n",
    "    print(\"Fail\")"
   ]
  },
  {
   "cell_type": "code",
   "execution_count": 10,
   "metadata": {},
   "outputs": [
    {
     "name": "stdout",
     "output_type": "stream",
     "text": [
      "Enter a number: 6\n",
      "This is an even number.\n"
     ]
    }
   ],
   "source": [
    "num = int(input(\"Enter a number: \"))\n",
    "mod = num % 2\n",
    "if mod > 0:\n",
    "    print(\"This is an odd number.\")\n",
    "else:\n",
    "    print(\"This is an even number.\")"
   ]
  },
  {
   "cell_type": "code",
   "execution_count": 5,
   "metadata": {},
   "outputs": [
    {
     "name": "stdout",
     "output_type": "stream",
     "text": [
      "The length of list is:  6\n"
     ]
    }
   ],
   "source": [
    "n = len([10, 20, 30, 40, 50, 60]) \n",
    "print(\"The length of list is: \", n )"
   ]
  },
  {
   "cell_type": "code",
   "execution_count": 1,
   "metadata": {},
   "outputs": [
    {
     "name": "stdout",
     "output_type": "stream",
     "text": [
      "Sum of all elements in given list:  74\n"
     ]
    }
   ],
   "source": [
    "list1 = [11, 5, 17, 18, 23] \n",
    "  \n",
    "# using sum() function \n",
    "total = sum(list1) \n",
    "  \n",
    "# printing total value \n",
    "print(\"Sum of all elements in given list: \", total) \n"
   ]
  },
  {
   "cell_type": "code",
   "execution_count": 11,
   "metadata": {},
   "outputs": [
    {
     "name": "stdout",
     "output_type": "stream",
     "text": [
      "80\n"
     ]
    }
   ],
   "source": [
    "list = [1, 2, 3,8, 20, 28,50, 80]\n",
    "print (max(list))"
   ]
  },
  {
   "cell_type": "code",
   "execution_count": 17,
   "metadata": {},
   "outputs": [
    {
     "name": "stdout",
     "output_type": "stream",
     "text": [
      "8\n",
      "13\n",
      "21\n",
      "34\n",
      "55\n",
      "89\n"
     ]
    }
   ],
   "source": [
    "a = [1, 1, 2, 3, 5, 8, 13, 21, 34, 55, 89]\n",
    "i = []\n",
    "for i in a:\n",
    "    if i < 5:\n",
    "        print(i)"
   ]
  },
  {
   "cell_type": "code",
   "execution_count": null,
   "metadata": {},
   "outputs": [],
   "source": []
  }
 ],
 "metadata": {
  "kernelspec": {
   "display_name": "Python 3",
   "language": "python",
   "name": "python3"
  },
  "language_info": {
   "codemirror_mode": {
    "name": "ipython",
    "version": 3
   },
   "file_extension": ".py",
   "mimetype": "text/x-python",
   "name": "python",
   "nbconvert_exporter": "python",
   "pygments_lexer": "ipython3",
   "version": "3.7.4"
  }
 },
 "nbformat": 4,
 "nbformat_minor": 2
}
