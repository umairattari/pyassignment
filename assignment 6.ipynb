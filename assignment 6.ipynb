{
 "cells": [
  {
   "cell_type": "code",
   "execution_count": null,
   "metadata": {},
   "outputs": [],
   "source": [
    "Object-oriented programming (OOP) refers to a type of computer programming (software design) in which programmers define\n",
    "the data type of a data structure, and also the types of operations (functions) that can be applied to the data structure"
   ]
  },
  {
   "cell_type": "code",
   "execution_count": null,
   "metadata": {},
   "outputs": [],
   "source": [
    "It provides a clear modular structure for programs which makes it good for defining abstract datatypes in which implementation\n",
    "details are hidden.\n",
    "Objects can also be reused within an across applications. ...\n",
    "It makes software easier to maintain. ...\n",
    "Reuse also enables faster development."
   ]
  },
  {
   "cell_type": "code",
   "execution_count": null,
   "metadata": {},
   "outputs": [],
   "source": [
    "Python method is called on an object, unlike a function. ... Since we call a method on an object,\n",
    "it can access the data within it. A method may alter an object's state, \n",
    "but Python function usually only operates on it, and then prints something or returns a value."
   ]
  },
  {
   "cell_type": "code",
   "execution_count": null,
   "metadata": {},
   "outputs": [],
   "source": [
    "A class is a code template for creating objects. Objects have member variables and have behaviour associated with them.\n",
    "In python a class is created by the keyword class \n",
    " object: an object is an element (or instance) of a class; objects have the behaviors of their class.\n",
    " Everything in Python is an object, and almost everything has attributes and methods. In python, functions too are objects.\n",
    "So they have attributes like other objects. All functions have a built-in attribute __doc__, which returns the doc string\n",
    "defined in \n",
    "the function source code  \n",
    "Behaviour Driven Development in Python. ... The developer realizes that TDD is about defining behaviour rather than testing."
   ]
  },
  {
   "cell_type": "code",
   "execution_count": 6,
   "metadata": {},
   "outputs": [],
   "source": [
    "class Car():\n",
    "    def __init__(self, car_name, car_model, car_color, car_value, car_price):\n",
    "        self.name = car_name\n",
    "        self.model = car_model\n",
    "        self.color = car_color\n",
    "        self.price = car_price\n",
    "        self.value = car_value\n",
    "   \n",
    "    def welcome(self):\n",
    "        print(\"welcome {}\" .format(self.name) )\n",
    "        \n",
    "    def is_eligible(self):\n",
    "        if self.car > 2000 :\n",
    "            return True\n",
    "        else:\n",
    "            return False\n",
    "        \n",
    "        \n",
    "        car1 = Car('corolla' , 1999 , 'black' , 200000 , 'demanded')\n",
    "        car2 = Car('honda' , 2004 , 'blue' , 1200000 , 'average')\n",
    "        car3 = Car('civic' , 2010 , 'white' , 1500000 , 'highly demanded')\n",
    "        car4 = Car('meera' , 2019 , 'silver' , 800000 , 'demanded')\n",
    "        car5 = Car('mehran' , 2000 , 'grey' , 500000 , 'demanded')\n",
    "        car1.welcome()\n",
    "        car1.is_eligible()"
   ]
  },
  {
   "cell_type": "code",
   "execution_count": null,
   "metadata": {},
   "outputs": [],
   "source": []
  },
  {
   "cell_type": "code",
   "execution_count": null,
   "metadata": {},
   "outputs": [],
   "source": []
  }
 ],
 "metadata": {
  "kernelspec": {
   "display_name": "Python 3",
   "language": "python",
   "name": "python3"
  },
  "language_info": {
   "codemirror_mode": {
    "name": "ipython",
    "version": 3
   },
   "file_extension": ".py",
   "mimetype": "text/x-python",
   "name": "python",
   "nbconvert_exporter": "python",
   "pygments_lexer": "ipython3",
   "version": "3.7.4"
  }
 },
 "nbformat": 4,
 "nbformat_minor": 2
}
